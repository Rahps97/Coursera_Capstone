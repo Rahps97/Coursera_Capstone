{
 "cells": [
  {
   "cell_type": "markdown",
   "metadata": {},
   "source": [
    "# Find the Nearest Hospitals"
   ]
  },
  {
   "cell_type": "markdown",
   "metadata": {},
   "source": [
    "This projects aims at locating hospitals in densely populated cities such as New York, Tokyo, and Paris and compare it with it's population and analysig the city for pandemic situation"
   ]
  },
  {
   "cell_type": "code",
   "execution_count": 27,
   "metadata": {},
   "outputs": [],
   "source": [
    "import requests # library to handle requests\n",
    "import pandas as pd # library for data analsysis\n",
    "import numpy as np # library to handle data in a vectorized manner\n",
    "import random # library for random number generation\n",
    "from sklearn.cluster import DBSCAN \n",
    "import sklearn.utils\n",
    "from sklearn.preprocessing import StandardScaler\n",
    "\n",
    "#!conda install -c conda-forge geopy --yes \n",
    "from geopy.geocoders import Nominatim # module to convert an address into latitude and longitude values\n",
    "\n",
    "# libraries for displaying images\n",
    "from IPython.display import Image \n",
    "from IPython.core.display import HTML \n",
    "    \n",
    "# tranforming json file into a pandas dataframe library\n",
    "from pandas.io.json import json_normalize\n",
    "\n",
    "#!conda install -c conda-forge folium=0.5.0 --yes\n",
    "import folium # plotting library\n",
    "\n",
    "# print('Folium installed')\n",
    "# print('Libraries imported.')"
   ]
  },
  {
   "cell_type": "markdown",
   "metadata": {},
   "source": [
    "**Setting up the API**"
   ]
  },
  {
   "cell_type": "code",
   "execution_count": 28,
   "metadata": {},
   "outputs": [
    {
     "name": "stdout",
     "output_type": "stream",
     "text": [
      "Your credentails:\n",
      "CLIENT_ID: 2IW1RLL2EC22MEO0NCI0LCSWT2H4R2SX5UZJZBLL2V3O3AFJ\n",
      "CLIENT_SECRET:0G23CDVM3O5K3PTMWODT15JX2QG14ZJOB5ZLCS5DOBWNGK2B\n"
     ]
    }
   ],
   "source": [
    "CLIENT_ID = '2IW1RLL2EC22MEO0NCI0LCSWT2H4R2SX5UZJZBLL2V3O3AFJ' # your Foursquare ID\n",
    "CLIENT_SECRET = '0G23CDVM3O5K3PTMWODT15JX2QG14ZJOB5ZLCS5DOBWNGK2B' # your Foursquare Secret\n",
    "VERSION = '20180604'\n",
    "LIMIT = 30\n",
    "print('Your credentails:')\n",
    "print('CLIENT_ID: ' + CLIENT_ID)\n",
    "print('CLIENT_SECRET:' + CLIENT_SECRET)"
   ]
  },
  {
   "cell_type": "markdown",
   "metadata": {},
   "source": [
    "## Data importing "
   ]
  },
  {
   "cell_type": "markdown",
   "metadata": {},
   "source": [
    "### New York"
   ]
  },
  {
   "cell_type": "markdown",
   "metadata": {},
   "source": [
    "__Locating New York__"
   ]
  },
  {
   "cell_type": "code",
   "execution_count": 29,
   "metadata": {},
   "outputs": [
    {
     "name": "stdout",
     "output_type": "stream",
     "text": [
      "40.7127281 -74.0060152\n"
     ]
    }
   ],
   "source": [
    "address = 'New York, NY'\n",
    "\n",
    "geolocator = Nominatim(user_agent=\"foursquare_agent\")\n",
    "location = geolocator.geocode(address)\n",
    "ny_latitude = location.latitude\n",
    "ny_longitude = location.longitude\n",
    "print(ny_latitude, ny_longitude)"
   ]
  },
  {
   "cell_type": "markdown",
   "metadata": {},
   "source": [
    "__Searching Hospitals__"
   ]
  },
  {
   "cell_type": "code",
   "execution_count": 30,
   "metadata": {},
   "outputs": [
    {
     "name": "stdout",
     "output_type": "stream",
     "text": [
      "Hospital .... OK!\n"
     ]
    }
   ],
   "source": [
    "search_query = 'Hospital'\n",
    "radius = 40000\n",
    "print(search_query + ' .... OK!')\n",
    "url = 'https://api.foursquare.com/v2/venues/search?client_id={}&client_secret={}&ll={},{}&v={}&query={}&radius={}&limit={}'.format(CLIENT_ID, CLIENT_SECRET, ny_latitude, ny_longitude, VERSION, search_query, radius, LIMIT)\n",
    "results = requests.get(url).json()"
   ]
  },
  {
   "cell_type": "markdown",
   "metadata": {},
   "source": [
    "__Converting into Data Frame__"
   ]
  },
  {
   "cell_type": "code",
   "execution_count": 31,
   "metadata": {},
   "outputs": [
    {
     "name": "stderr",
     "output_type": "stream",
     "text": [
      "C:\\Users\\Rahul\\Anaconda3\\lib\\site-packages\\ipykernel_launcher.py:5: FutureWarning: pandas.io.json.json_normalize is deprecated, use pandas.json_normalize instead\n",
      "  \"\"\"\n"
     ]
    },
    {
     "data": {
      "text/html": [
       "<div>\n",
       "<style scoped>\n",
       "    .dataframe tbody tr th:only-of-type {\n",
       "        vertical-align: middle;\n",
       "    }\n",
       "\n",
       "    .dataframe tbody tr th {\n",
       "        vertical-align: top;\n",
       "    }\n",
       "\n",
       "    .dataframe thead th {\n",
       "        text-align: right;\n",
       "    }\n",
       "</style>\n",
       "<table border=\"1\" class=\"dataframe\">\n",
       "  <thead>\n",
       "    <tr style=\"text-align: right;\">\n",
       "      <th></th>\n",
       "      <th>id</th>\n",
       "      <th>name</th>\n",
       "      <th>categories</th>\n",
       "      <th>referralId</th>\n",
       "      <th>hasPerk</th>\n",
       "      <th>location.address</th>\n",
       "      <th>location.crossStreet</th>\n",
       "      <th>location.lat</th>\n",
       "      <th>location.lng</th>\n",
       "      <th>location.labeledLatLngs</th>\n",
       "      <th>location.distance</th>\n",
       "      <th>location.postalCode</th>\n",
       "      <th>location.cc</th>\n",
       "      <th>location.city</th>\n",
       "      <th>location.state</th>\n",
       "      <th>location.country</th>\n",
       "      <th>location.formattedAddress</th>\n",
       "      <th>venuePage.id</th>\n",
       "      <th>location.neighborhood</th>\n",
       "    </tr>\n",
       "  </thead>\n",
       "  <tbody>\n",
       "    <tr>\n",
       "      <th>0</th>\n",
       "      <td>4a82ef0af964a52092f91fe3</td>\n",
       "      <td>NewYork-Presbyterian-Lower Manhattan Hospital</td>\n",
       "      <td>[{'id': '4bf58dd8d48988d196941735', 'name': 'H...</td>\n",
       "      <td>v-1590371994</td>\n",
       "      <td>False</td>\n",
       "      <td>170 William St</td>\n",
       "      <td>at Gold St</td>\n",
       "      <td>40.709917</td>\n",
       "      <td>-74.004758</td>\n",
       "      <td>[{'label': 'display', 'lat': 40.7099166, 'lng'...</td>\n",
       "      <td>330</td>\n",
       "      <td>10038</td>\n",
       "      <td>US</td>\n",
       "      <td>New York</td>\n",
       "      <td>NY</td>\n",
       "      <td>United States</td>\n",
       "      <td>[170 William St (at Gold St), New York, NY 100...</td>\n",
       "      <td>NaN</td>\n",
       "      <td>NaN</td>\n",
       "    </tr>\n",
       "    <tr>\n",
       "      <th>1</th>\n",
       "      <td>4bad1a23f964a520b62d3be3</td>\n",
       "      <td>NY Presbyterian Hospital Lower Manhattan Hosp ER</td>\n",
       "      <td>[{'id': '4bf58dd8d48988d194941735', 'name': 'E...</td>\n",
       "      <td>v-1590371994</td>\n",
       "      <td>False</td>\n",
       "      <td>NaN</td>\n",
       "      <td>NaN</td>\n",
       "      <td>40.709985</td>\n",
       "      <td>-74.004720</td>\n",
       "      <td>[{'label': 'display', 'lat': 40.70998454215684...</td>\n",
       "      <td>324</td>\n",
       "      <td>NaN</td>\n",
       "      <td>US</td>\n",
       "      <td>New York</td>\n",
       "      <td>NY</td>\n",
       "      <td>United States</td>\n",
       "      <td>[New York, NY, United States]</td>\n",
       "      <td>NaN</td>\n",
       "      <td>NaN</td>\n",
       "    </tr>\n",
       "    <tr>\n",
       "      <th>2</th>\n",
       "      <td>4bc3820374a9a593eba5d4f6</td>\n",
       "      <td>Battery Park Veterinary Hospital</td>\n",
       "      <td>[{'id': '4d954af4a243a5684765b473', 'name': 'V...</td>\n",
       "      <td>v-1590371994</td>\n",
       "      <td>False</td>\n",
       "      <td>21 South End Ave., Ground Floor</td>\n",
       "      <td>W Thames St</td>\n",
       "      <td>40.708163</td>\n",
       "      <td>-74.017927</td>\n",
       "      <td>[{'label': 'display', 'lat': 40.70816281460506...</td>\n",
       "      <td>1126</td>\n",
       "      <td>10280</td>\n",
       "      <td>US</td>\n",
       "      <td>New York</td>\n",
       "      <td>NY</td>\n",
       "      <td>United States</td>\n",
       "      <td>[21 South End Ave., Ground Floor (W Thames St)...</td>\n",
       "      <td>33365449</td>\n",
       "      <td>NaN</td>\n",
       "    </tr>\n",
       "    <tr>\n",
       "      <th>3</th>\n",
       "      <td>4a43baaaf964a520b9a61fe3</td>\n",
       "      <td>Bellevue Hospital Center</td>\n",
       "      <td>[{'id': '4bf58dd8d48988d196941735', 'name': 'H...</td>\n",
       "      <td>v-1590371994</td>\n",
       "      <td>False</td>\n",
       "      <td>462 1st Ave</td>\n",
       "      <td>btwn E 26th &amp; E 28th St</td>\n",
       "      <td>40.739475</td>\n",
       "      <td>-73.975453</td>\n",
       "      <td>[{'label': 'display', 'lat': 40.73947458905508...</td>\n",
       "      <td>3938</td>\n",
       "      <td>10016</td>\n",
       "      <td>US</td>\n",
       "      <td>New York</td>\n",
       "      <td>NY</td>\n",
       "      <td>United States</td>\n",
       "      <td>[462 1st Ave (btwn E 26th &amp; E 28th St), New Yo...</td>\n",
       "      <td>NaN</td>\n",
       "      <td>NaN</td>\n",
       "    </tr>\n",
       "    <tr>\n",
       "      <th>4</th>\n",
       "      <td>4b1c0e79f964a5205c0124e3</td>\n",
       "      <td>Tribeca Soho Animal Hospital</td>\n",
       "      <td>[{'id': '4d954af4a243a5684765b473', 'name': 'V...</td>\n",
       "      <td>v-1590371994</td>\n",
       "      <td>False</td>\n",
       "      <td>5 Lispenard St</td>\n",
       "      <td>Near Corner of 6th Avenue and Lispenard</td>\n",
       "      <td>40.720578</td>\n",
       "      <td>-74.004869</td>\n",
       "      <td>[{'label': 'display', 'lat': 40.72057803284648...</td>\n",
       "      <td>879</td>\n",
       "      <td>10013</td>\n",
       "      <td>US</td>\n",
       "      <td>New York</td>\n",
       "      <td>NY</td>\n",
       "      <td>United States</td>\n",
       "      <td>[5 Lispenard St (Near Corner of 6th Avenue and...</td>\n",
       "      <td>33365451</td>\n",
       "      <td>NaN</td>\n",
       "    </tr>\n",
       "  </tbody>\n",
       "</table>\n",
       "</div>"
      ],
      "text/plain": [
       "                         id                                              name  \\\n",
       "0  4a82ef0af964a52092f91fe3     NewYork-Presbyterian-Lower Manhattan Hospital   \n",
       "1  4bad1a23f964a520b62d3be3  NY Presbyterian Hospital Lower Manhattan Hosp ER   \n",
       "2  4bc3820374a9a593eba5d4f6                  Battery Park Veterinary Hospital   \n",
       "3  4a43baaaf964a520b9a61fe3                          Bellevue Hospital Center   \n",
       "4  4b1c0e79f964a5205c0124e3                      Tribeca Soho Animal Hospital   \n",
       "\n",
       "                                          categories    referralId  hasPerk  \\\n",
       "0  [{'id': '4bf58dd8d48988d196941735', 'name': 'H...  v-1590371994    False   \n",
       "1  [{'id': '4bf58dd8d48988d194941735', 'name': 'E...  v-1590371994    False   \n",
       "2  [{'id': '4d954af4a243a5684765b473', 'name': 'V...  v-1590371994    False   \n",
       "3  [{'id': '4bf58dd8d48988d196941735', 'name': 'H...  v-1590371994    False   \n",
       "4  [{'id': '4d954af4a243a5684765b473', 'name': 'V...  v-1590371994    False   \n",
       "\n",
       "                  location.address                     location.crossStreet  \\\n",
       "0                   170 William St                               at Gold St   \n",
       "1                              NaN                                      NaN   \n",
       "2  21 South End Ave., Ground Floor                              W Thames St   \n",
       "3                      462 1st Ave                  btwn E 26th & E 28th St   \n",
       "4                   5 Lispenard St  Near Corner of 6th Avenue and Lispenard   \n",
       "\n",
       "   location.lat  location.lng  \\\n",
       "0     40.709917    -74.004758   \n",
       "1     40.709985    -74.004720   \n",
       "2     40.708163    -74.017927   \n",
       "3     40.739475    -73.975453   \n",
       "4     40.720578    -74.004869   \n",
       "\n",
       "                             location.labeledLatLngs  location.distance  \\\n",
       "0  [{'label': 'display', 'lat': 40.7099166, 'lng'...                330   \n",
       "1  [{'label': 'display', 'lat': 40.70998454215684...                324   \n",
       "2  [{'label': 'display', 'lat': 40.70816281460506...               1126   \n",
       "3  [{'label': 'display', 'lat': 40.73947458905508...               3938   \n",
       "4  [{'label': 'display', 'lat': 40.72057803284648...                879   \n",
       "\n",
       "  location.postalCode location.cc location.city location.state  \\\n",
       "0               10038          US      New York             NY   \n",
       "1                 NaN          US      New York             NY   \n",
       "2               10280          US      New York             NY   \n",
       "3               10016          US      New York             NY   \n",
       "4               10013          US      New York             NY   \n",
       "\n",
       "  location.country                          location.formattedAddress  \\\n",
       "0    United States  [170 William St (at Gold St), New York, NY 100...   \n",
       "1    United States                      [New York, NY, United States]   \n",
       "2    United States  [21 South End Ave., Ground Floor (W Thames St)...   \n",
       "3    United States  [462 1st Ave (btwn E 26th & E 28th St), New Yo...   \n",
       "4    United States  [5 Lispenard St (Near Corner of 6th Avenue and...   \n",
       "\n",
       "  venuePage.id location.neighborhood  \n",
       "0          NaN                   NaN  \n",
       "1          NaN                   NaN  \n",
       "2     33365449                   NaN  \n",
       "3          NaN                   NaN  \n",
       "4     33365451                   NaN  "
      ]
     },
     "execution_count": 31,
     "metadata": {},
     "output_type": "execute_result"
    }
   ],
   "source": [
    "# assign relevant part of JSON to hospitals\n",
    "hospitals = results['response']['venues']\n",
    "\n",
    "# tranform hospitals into a dataframe\n",
    "df_ny = json_normalize(hospitals)\n",
    "df_ny.head()"
   ]
  },
  {
   "cell_type": "markdown",
   "metadata": {},
   "source": [
    "### Tokyo"
   ]
  },
  {
   "cell_type": "markdown",
   "metadata": {},
   "source": [
    "__Locating Tokyo__"
   ]
  },
  {
   "cell_type": "code",
   "execution_count": 32,
   "metadata": {},
   "outputs": [
    {
     "name": "stdout",
     "output_type": "stream",
     "text": [
      "35.6828387 139.7594549\n"
     ]
    }
   ],
   "source": [
    "address = 'Tokyo, Japan'\n",
    "\n",
    "geolocator = Nominatim(user_agent=\"foursquare_agent\")\n",
    "location = geolocator.geocode(address)\n",
    "tk_latitude = location.latitude\n",
    "tk_longitude = location.longitude\n",
    "print(tk_latitude, tk_longitude)"
   ]
  },
  {
   "cell_type": "markdown",
   "metadata": {},
   "source": [
    "__Searching Hospitals__"
   ]
  },
  {
   "cell_type": "code",
   "execution_count": 33,
   "metadata": {},
   "outputs": [
    {
     "name": "stdout",
     "output_type": "stream",
     "text": [
      "Hospital .... OK!\n"
     ]
    }
   ],
   "source": [
    "search_query = 'Hospital'\n",
    "radius = 40000\n",
    "print(search_query + ' .... OK!')\n",
    "url = 'https://api.foursquare.com/v2/venues/search?client_id={}&client_secret={}&ll={},{}&v={}&query={}&radius={}&limit={}'.format(CLIENT_ID, CLIENT_SECRET, tk_latitude, tk_longitude, VERSION, search_query, radius, LIMIT)\n",
    "results = requests.get(url).json()"
   ]
  },
  {
   "cell_type": "markdown",
   "metadata": {},
   "source": [
    "__Converting into Data Frame__"
   ]
  },
  {
   "cell_type": "code",
   "execution_count": 34,
   "metadata": {},
   "outputs": [
    {
     "name": "stderr",
     "output_type": "stream",
     "text": [
      "C:\\Users\\Rahul\\Anaconda3\\lib\\site-packages\\ipykernel_launcher.py:5: FutureWarning: pandas.io.json.json_normalize is deprecated, use pandas.json_normalize instead\n",
      "  \"\"\"\n"
     ]
    },
    {
     "data": {
      "text/html": [
       "<div>\n",
       "<style scoped>\n",
       "    .dataframe tbody tr th:only-of-type {\n",
       "        vertical-align: middle;\n",
       "    }\n",
       "\n",
       "    .dataframe tbody tr th {\n",
       "        vertical-align: top;\n",
       "    }\n",
       "\n",
       "    .dataframe thead th {\n",
       "        text-align: right;\n",
       "    }\n",
       "</style>\n",
       "<table border=\"1\" class=\"dataframe\">\n",
       "  <thead>\n",
       "    <tr style=\"text-align: right;\">\n",
       "      <th></th>\n",
       "      <th>id</th>\n",
       "      <th>name</th>\n",
       "      <th>categories</th>\n",
       "      <th>referralId</th>\n",
       "      <th>hasPerk</th>\n",
       "      <th>location.address</th>\n",
       "      <th>location.lat</th>\n",
       "      <th>location.lng</th>\n",
       "      <th>location.labeledLatLngs</th>\n",
       "      <th>location.distance</th>\n",
       "      <th>location.postalCode</th>\n",
       "      <th>location.cc</th>\n",
       "      <th>location.city</th>\n",
       "      <th>location.state</th>\n",
       "      <th>location.country</th>\n",
       "      <th>location.formattedAddress</th>\n",
       "      <th>location.crossStreet</th>\n",
       "      <th>location.neighborhood</th>\n",
       "    </tr>\n",
       "  </thead>\n",
       "  <tbody>\n",
       "    <tr>\n",
       "      <th>0</th>\n",
       "      <td>4b7e3469f964a520ffe52fe3</td>\n",
       "      <td>Toranomon Hospital (虎の門病院)</td>\n",
       "      <td>[{'id': '4bf58dd8d48988d196941735', 'name': 'H...</td>\n",
       "      <td>v-1590371997</td>\n",
       "      <td>False</td>\n",
       "      <td>虎ノ門2-2-2</td>\n",
       "      <td>35.668780</td>\n",
       "      <td>139.746678</td>\n",
       "      <td>[{'label': 'display', 'lat': 35.66878028496117...</td>\n",
       "      <td>1945</td>\n",
       "      <td>105-0001</td>\n",
       "      <td>JP</td>\n",
       "      <td>港区</td>\n",
       "      <td>東京都</td>\n",
       "      <td>日本</td>\n",
       "      <td>[虎ノ門2-2-2, 港区, 東京都, 105-0001, 日本]</td>\n",
       "      <td>NaN</td>\n",
       "      <td>NaN</td>\n",
       "    </tr>\n",
       "    <tr>\n",
       "      <th>1</th>\n",
       "      <td>4b8dc254f964a520620c33e3</td>\n",
       "      <td>St. Luke's Hospital (聖路加国際病院)</td>\n",
       "      <td>[{'id': '4bf58dd8d48988d196941735', 'name': 'H...</td>\n",
       "      <td>v-1590371997</td>\n",
       "      <td>False</td>\n",
       "      <td>明石町9-1</td>\n",
       "      <td>35.667372</td>\n",
       "      <td>139.777500</td>\n",
       "      <td>[{'label': 'display', 'lat': 35.66737156875987...</td>\n",
       "      <td>2372</td>\n",
       "      <td>104-8560</td>\n",
       "      <td>JP</td>\n",
       "      <td>東京</td>\n",
       "      <td>東京都</td>\n",
       "      <td>日本</td>\n",
       "      <td>[明石町9-1, 中央区, 東京都, 104-8560, 日本]</td>\n",
       "      <td>NaN</td>\n",
       "      <td>NaN</td>\n",
       "    </tr>\n",
       "    <tr>\n",
       "      <th>2</th>\n",
       "      <td>4b5b90c8f964a5208b0729e3</td>\n",
       "      <td>Keio University Hospital (慶應義塾大学病院)</td>\n",
       "      <td>[{'id': '4bf58dd8d48988d196941735', 'name': 'H...</td>\n",
       "      <td>v-1590371997</td>\n",
       "      <td>False</td>\n",
       "      <td>信濃町35</td>\n",
       "      <td>35.681880</td>\n",
       "      <td>139.717972</td>\n",
       "      <td>[{'label': 'display', 'lat': 35.68188, 'lng': ...</td>\n",
       "      <td>3752</td>\n",
       "      <td>160-8582</td>\n",
       "      <td>JP</td>\n",
       "      <td>新宿区</td>\n",
       "      <td>東京都</td>\n",
       "      <td>日本</td>\n",
       "      <td>[信濃町35, 新宿区, 東京都, 160-8582, 日本]</td>\n",
       "      <td>NaN</td>\n",
       "      <td>NaN</td>\n",
       "    </tr>\n",
       "    <tr>\n",
       "      <th>3</th>\n",
       "      <td>5eab8ffd67572b0007589382</td>\n",
       "      <td>Yokohama Municipal Citizen’s Hospital (横浜市立市民病院)</td>\n",
       "      <td>[{'id': '4bf58dd8d48988d196941735', 'name': 'H...</td>\n",
       "      <td>v-1590371997</td>\n",
       "      <td>False</td>\n",
       "      <td>神奈川区三ツ沢西町1-1</td>\n",
       "      <td>35.468858</td>\n",
       "      <td>139.604816</td>\n",
       "      <td>[{'label': 'display', 'lat': 35.46885777775581...</td>\n",
       "      <td>27630</td>\n",
       "      <td>221-0855</td>\n",
       "      <td>JP</td>\n",
       "      <td>横浜市</td>\n",
       "      <td>神奈川県</td>\n",
       "      <td>日本</td>\n",
       "      <td>[神奈川区三ツ沢西町1-1, 横浜市, 神奈川県, 221-0855, 日本]</td>\n",
       "      <td>NaN</td>\n",
       "      <td>NaN</td>\n",
       "    </tr>\n",
       "    <tr>\n",
       "      <th>4</th>\n",
       "      <td>5b61109d088158002c9d1ab4</td>\n",
       "      <td>International University of Health and Werfare...</td>\n",
       "      <td>[{'id': '4bf58dd8d48988d196941735', 'name': 'H...</td>\n",
       "      <td>v-1590371997</td>\n",
       "      <td>False</td>\n",
       "      <td>国府台6-1-14</td>\n",
       "      <td>35.756844</td>\n",
       "      <td>139.902540</td>\n",
       "      <td>[{'label': 'display', 'lat': 35.756844, 'lng':...</td>\n",
       "      <td>15332</td>\n",
       "      <td>272-0827</td>\n",
       "      <td>JP</td>\n",
       "      <td>市川市</td>\n",
       "      <td>千葉県</td>\n",
       "      <td>日本</td>\n",
       "      <td>[国府台6-1-14, 市川市, 千葉県, 272-0827, 日本]</td>\n",
       "      <td>NaN</td>\n",
       "      <td>NaN</td>\n",
       "    </tr>\n",
       "  </tbody>\n",
       "</table>\n",
       "</div>"
      ],
      "text/plain": [
       "                         id  \\\n",
       "0  4b7e3469f964a520ffe52fe3   \n",
       "1  4b8dc254f964a520620c33e3   \n",
       "2  4b5b90c8f964a5208b0729e3   \n",
       "3  5eab8ffd67572b0007589382   \n",
       "4  5b61109d088158002c9d1ab4   \n",
       "\n",
       "                                                name  \\\n",
       "0                         Toranomon Hospital (虎の門病院)   \n",
       "1                      St. Luke's Hospital (聖路加国際病院)   \n",
       "2                Keio University Hospital (慶應義塾大学病院)   \n",
       "3   Yokohama Municipal Citizen’s Hospital (横浜市立市民病院)   \n",
       "4  International University of Health and Werfare...   \n",
       "\n",
       "                                          categories    referralId  hasPerk  \\\n",
       "0  [{'id': '4bf58dd8d48988d196941735', 'name': 'H...  v-1590371997    False   \n",
       "1  [{'id': '4bf58dd8d48988d196941735', 'name': 'H...  v-1590371997    False   \n",
       "2  [{'id': '4bf58dd8d48988d196941735', 'name': 'H...  v-1590371997    False   \n",
       "3  [{'id': '4bf58dd8d48988d196941735', 'name': 'H...  v-1590371997    False   \n",
       "4  [{'id': '4bf58dd8d48988d196941735', 'name': 'H...  v-1590371997    False   \n",
       "\n",
       "  location.address  location.lat  location.lng  \\\n",
       "0         虎ノ門2-2-2     35.668780    139.746678   \n",
       "1           明石町9-1     35.667372    139.777500   \n",
       "2            信濃町35     35.681880    139.717972   \n",
       "3     神奈川区三ツ沢西町1-1     35.468858    139.604816   \n",
       "4        国府台6-1-14     35.756844    139.902540   \n",
       "\n",
       "                             location.labeledLatLngs  location.distance  \\\n",
       "0  [{'label': 'display', 'lat': 35.66878028496117...               1945   \n",
       "1  [{'label': 'display', 'lat': 35.66737156875987...               2372   \n",
       "2  [{'label': 'display', 'lat': 35.68188, 'lng': ...               3752   \n",
       "3  [{'label': 'display', 'lat': 35.46885777775581...              27630   \n",
       "4  [{'label': 'display', 'lat': 35.756844, 'lng':...              15332   \n",
       "\n",
       "  location.postalCode location.cc location.city location.state  \\\n",
       "0            105-0001          JP            港区            東京都   \n",
       "1            104-8560          JP            東京            東京都   \n",
       "2            160-8582          JP           新宿区            東京都   \n",
       "3            221-0855          JP           横浜市           神奈川県   \n",
       "4            272-0827          JP           市川市            千葉県   \n",
       "\n",
       "  location.country                location.formattedAddress  \\\n",
       "0               日本        [虎ノ門2-2-2, 港区, 東京都, 105-0001, 日本]   \n",
       "1               日本         [明石町9-1, 中央区, 東京都, 104-8560, 日本]   \n",
       "2               日本          [信濃町35, 新宿区, 東京都, 160-8582, 日本]   \n",
       "3               日本  [神奈川区三ツ沢西町1-1, 横浜市, 神奈川県, 221-0855, 日本]   \n",
       "4               日本      [国府台6-1-14, 市川市, 千葉県, 272-0827, 日本]   \n",
       "\n",
       "  location.crossStreet location.neighborhood  \n",
       "0                  NaN                   NaN  \n",
       "1                  NaN                   NaN  \n",
       "2                  NaN                   NaN  \n",
       "3                  NaN                   NaN  \n",
       "4                  NaN                   NaN  "
      ]
     },
     "execution_count": 34,
     "metadata": {},
     "output_type": "execute_result"
    }
   ],
   "source": [
    "# assign relevant part of JSON to hospitals\n",
    "hospitals = results['response']['venues']\n",
    "\n",
    "# tranform hospitals into a dataframe\n",
    "df_tk = json_normalize(hospitals)\n",
    "df_tk.head()"
   ]
  },
  {
   "cell_type": "markdown",
   "metadata": {},
   "source": [
    "### Paris"
   ]
  },
  {
   "cell_type": "markdown",
   "metadata": {},
   "source": [
    "__Locating Paris__"
   ]
  },
  {
   "cell_type": "code",
   "execution_count": 35,
   "metadata": {},
   "outputs": [
    {
     "name": "stdout",
     "output_type": "stream",
     "text": [
      "48.8566969 2.3514616\n"
     ]
    }
   ],
   "source": [
    "address = 'Paris, France'\n",
    "\n",
    "geolocator = Nominatim(user_agent=\"foursquare_agent\")\n",
    "location = geolocator.geocode(address)\n",
    "pr_latitude = location.latitude\n",
    "pr_longitude = location.longitude\n",
    "print(pr_latitude, pr_longitude)"
   ]
  },
  {
   "cell_type": "markdown",
   "metadata": {},
   "source": [
    "__Searching Hospitals__"
   ]
  },
  {
   "cell_type": "code",
   "execution_count": 36,
   "metadata": {},
   "outputs": [
    {
     "name": "stdout",
     "output_type": "stream",
     "text": [
      "Hospital .... OK!\n"
     ]
    }
   ],
   "source": [
    "search_query = 'Hospital'\n",
    "radius = 40000\n",
    "print(search_query + ' .... OK!')\n",
    "url = 'https://api.foursquare.com/v2/venues/search?client_id={}&client_secret={}&ll={},{}&v={}&query={}&radius={}&limit={}'.format(CLIENT_ID, CLIENT_SECRET, pr_latitude, pr_longitude, VERSION, search_query, radius, LIMIT)\n",
    "results = requests.get(url).json()"
   ]
  },
  {
   "cell_type": "markdown",
   "metadata": {},
   "source": [
    "__Converting into Data Frame__"
   ]
  },
  {
   "cell_type": "code",
   "execution_count": 37,
   "metadata": {},
   "outputs": [
    {
     "name": "stderr",
     "output_type": "stream",
     "text": [
      "C:\\Users\\Rahul\\Anaconda3\\lib\\site-packages\\ipykernel_launcher.py:5: FutureWarning: pandas.io.json.json_normalize is deprecated, use pandas.json_normalize instead\n",
      "  \"\"\"\n"
     ]
    },
    {
     "data": {
      "text/html": [
       "<div>\n",
       "<style scoped>\n",
       "    .dataframe tbody tr th:only-of-type {\n",
       "        vertical-align: middle;\n",
       "    }\n",
       "\n",
       "    .dataframe tbody tr th {\n",
       "        vertical-align: top;\n",
       "    }\n",
       "\n",
       "    .dataframe thead th {\n",
       "        text-align: right;\n",
       "    }\n",
       "</style>\n",
       "<table border=\"1\" class=\"dataframe\">\n",
       "  <thead>\n",
       "    <tr style=\"text-align: right;\">\n",
       "      <th></th>\n",
       "      <th>id</th>\n",
       "      <th>name</th>\n",
       "      <th>categories</th>\n",
       "      <th>referralId</th>\n",
       "      <th>hasPerk</th>\n",
       "      <th>location.lat</th>\n",
       "      <th>location.lng</th>\n",
       "      <th>location.labeledLatLngs</th>\n",
       "      <th>location.distance</th>\n",
       "      <th>location.cc</th>\n",
       "      <th>location.country</th>\n",
       "      <th>location.formattedAddress</th>\n",
       "      <th>location.address</th>\n",
       "      <th>location.postalCode</th>\n",
       "      <th>location.city</th>\n",
       "      <th>location.state</th>\n",
       "      <th>location.crossStreet</th>\n",
       "      <th>venuePage.id</th>\n",
       "    </tr>\n",
       "  </thead>\n",
       "  <tbody>\n",
       "    <tr>\n",
       "      <th>0</th>\n",
       "      <td>50dd6f67e4b0add0e71f37bd</td>\n",
       "      <td>Hospital Nnecker</td>\n",
       "      <td>[{'id': '4bf58dd8d48988d196941735', 'name': 'H...</td>\n",
       "      <td>v-1590371999</td>\n",
       "      <td>False</td>\n",
       "      <td>48.870183</td>\n",
       "      <td>2.351002</td>\n",
       "      <td>[{'label': 'display', 'lat': 48.87018291494488...</td>\n",
       "      <td>1501</td>\n",
       "      <td>FR</td>\n",
       "      <td>France</td>\n",
       "      <td>[France]</td>\n",
       "      <td>NaN</td>\n",
       "      <td>NaN</td>\n",
       "      <td>NaN</td>\n",
       "      <td>NaN</td>\n",
       "      <td>NaN</td>\n",
       "      <td>NaN</td>\n",
       "    </tr>\n",
       "    <tr>\n",
       "      <th>1</th>\n",
       "      <td>50f8db68e4b070089ca027d2</td>\n",
       "      <td>American Hospital of Paris</td>\n",
       "      <td>[{'id': '4bf58dd8d48988d196941735', 'name': 'H...</td>\n",
       "      <td>v-1590371999</td>\n",
       "      <td>False</td>\n",
       "      <td>48.870697</td>\n",
       "      <td>2.331678</td>\n",
       "      <td>[{'label': 'display', 'lat': 48.87069730004591...</td>\n",
       "      <td>2127</td>\n",
       "      <td>FR</td>\n",
       "      <td>France</td>\n",
       "      <td>[44, rue d'Amsterdam, 75008 Paris, France]</td>\n",
       "      <td>44, rue d'Amsterdam</td>\n",
       "      <td>75008</td>\n",
       "      <td>Paris</td>\n",
       "      <td>Île-de-France</td>\n",
       "      <td>NaN</td>\n",
       "      <td>NaN</td>\n",
       "    </tr>\n",
       "    <tr>\n",
       "      <th>2</th>\n",
       "      <td>4d0b312f109d6dcb14a18d8d</td>\n",
       "      <td>Hospital Paul D Egine</td>\n",
       "      <td>[{'id': '4bf58dd8d48988d196941735', 'name': 'H...</td>\n",
       "      <td>v-1590371999</td>\n",
       "      <td>False</td>\n",
       "      <td>48.811221</td>\n",
       "      <td>2.516621</td>\n",
       "      <td>[{'label': 'display', 'lat': 48.81122090610476...</td>\n",
       "      <td>13118</td>\n",
       "      <td>FR</td>\n",
       "      <td>France</td>\n",
       "      <td>[4-22 Avenue Marx Dormoy, 94500 Champigny-sur-...</td>\n",
       "      <td>4-22 Avenue Marx Dormoy</td>\n",
       "      <td>94500</td>\n",
       "      <td>Champigny-sur-Marne</td>\n",
       "      <td>Île-de-France</td>\n",
       "      <td>NaN</td>\n",
       "      <td>NaN</td>\n",
       "    </tr>\n",
       "    <tr>\n",
       "      <th>3</th>\n",
       "      <td>4f507bd3e4b07c3381f1575a</td>\n",
       "      <td>American Hospital Paris</td>\n",
       "      <td>[{'id': '4bf58dd8d48988d1b3941735', 'name': 'M...</td>\n",
       "      <td>v-1590371999</td>\n",
       "      <td>False</td>\n",
       "      <td>48.872050</td>\n",
       "      <td>2.309073</td>\n",
       "      <td>[{'label': 'display', 'lat': 48.87205004493644...</td>\n",
       "      <td>3543</td>\n",
       "      <td>FR</td>\n",
       "      <td>France</td>\n",
       "      <td>[France, France]</td>\n",
       "      <td>France</td>\n",
       "      <td>NaN</td>\n",
       "      <td>NaN</td>\n",
       "      <td>NaN</td>\n",
       "      <td>NaN</td>\n",
       "      <td>NaN</td>\n",
       "    </tr>\n",
       "    <tr>\n",
       "      <th>4</th>\n",
       "      <td>4b695e65f964a52028a02be3</td>\n",
       "      <td>Hôpital de la Pitié-Salpêtrière</td>\n",
       "      <td>[{'id': '4bf58dd8d48988d196941735', 'name': 'H...</td>\n",
       "      <td>v-1590371999</td>\n",
       "      <td>False</td>\n",
       "      <td>48.837549</td>\n",
       "      <td>2.364292</td>\n",
       "      <td>[{'label': 'display', 'lat': 48.83754878953055...</td>\n",
       "      <td>2329</td>\n",
       "      <td>FR</td>\n",
       "      <td>France</td>\n",
       "      <td>[47 boulevard de l'Hôpital, 75013 Paris, France]</td>\n",
       "      <td>47 boulevard de l'Hôpital</td>\n",
       "      <td>75013</td>\n",
       "      <td>Paris</td>\n",
       "      <td>Île-de-France</td>\n",
       "      <td>NaN</td>\n",
       "      <td>NaN</td>\n",
       "    </tr>\n",
       "  </tbody>\n",
       "</table>\n",
       "</div>"
      ],
      "text/plain": [
       "                         id                             name  \\\n",
       "0  50dd6f67e4b0add0e71f37bd                 Hospital Nnecker   \n",
       "1  50f8db68e4b070089ca027d2       American Hospital of Paris   \n",
       "2  4d0b312f109d6dcb14a18d8d            Hospital Paul D Egine   \n",
       "3  4f507bd3e4b07c3381f1575a          American Hospital Paris   \n",
       "4  4b695e65f964a52028a02be3  Hôpital de la Pitié-Salpêtrière   \n",
       "\n",
       "                                          categories    referralId  hasPerk  \\\n",
       "0  [{'id': '4bf58dd8d48988d196941735', 'name': 'H...  v-1590371999    False   \n",
       "1  [{'id': '4bf58dd8d48988d196941735', 'name': 'H...  v-1590371999    False   \n",
       "2  [{'id': '4bf58dd8d48988d196941735', 'name': 'H...  v-1590371999    False   \n",
       "3  [{'id': '4bf58dd8d48988d1b3941735', 'name': 'M...  v-1590371999    False   \n",
       "4  [{'id': '4bf58dd8d48988d196941735', 'name': 'H...  v-1590371999    False   \n",
       "\n",
       "   location.lat  location.lng  \\\n",
       "0     48.870183      2.351002   \n",
       "1     48.870697      2.331678   \n",
       "2     48.811221      2.516621   \n",
       "3     48.872050      2.309073   \n",
       "4     48.837549      2.364292   \n",
       "\n",
       "                             location.labeledLatLngs  location.distance  \\\n",
       "0  [{'label': 'display', 'lat': 48.87018291494488...               1501   \n",
       "1  [{'label': 'display', 'lat': 48.87069730004591...               2127   \n",
       "2  [{'label': 'display', 'lat': 48.81122090610476...              13118   \n",
       "3  [{'label': 'display', 'lat': 48.87205004493644...               3543   \n",
       "4  [{'label': 'display', 'lat': 48.83754878953055...               2329   \n",
       "\n",
       "  location.cc location.country  \\\n",
       "0          FR           France   \n",
       "1          FR           France   \n",
       "2          FR           France   \n",
       "3          FR           France   \n",
       "4          FR           France   \n",
       "\n",
       "                           location.formattedAddress  \\\n",
       "0                                           [France]   \n",
       "1         [44, rue d'Amsterdam, 75008 Paris, France]   \n",
       "2  [4-22 Avenue Marx Dormoy, 94500 Champigny-sur-...   \n",
       "3                                   [France, France]   \n",
       "4   [47 boulevard de l'Hôpital, 75013 Paris, France]   \n",
       "\n",
       "            location.address location.postalCode        location.city  \\\n",
       "0                        NaN                 NaN                  NaN   \n",
       "1        44, rue d'Amsterdam               75008                Paris   \n",
       "2    4-22 Avenue Marx Dormoy               94500  Champigny-sur-Marne   \n",
       "3                     France                 NaN                  NaN   \n",
       "4  47 boulevard de l'Hôpital               75013                Paris   \n",
       "\n",
       "  location.state location.crossStreet venuePage.id  \n",
       "0            NaN                  NaN          NaN  \n",
       "1  Île-de-France                  NaN          NaN  \n",
       "2  Île-de-France                  NaN          NaN  \n",
       "3            NaN                  NaN          NaN  \n",
       "4  Île-de-France                  NaN          NaN  "
      ]
     },
     "execution_count": 37,
     "metadata": {},
     "output_type": "execute_result"
    }
   ],
   "source": [
    "# assign relevant part of JSON to hospitals\n",
    "hospitals = results['response']['venues']\n",
    "\n",
    "# tranform hospitals into a dataframe\n",
    "df_pr = json_normalize(hospitals)\n",
    "df_pr.head()"
   ]
  },
  {
   "cell_type": "markdown",
   "metadata": {},
   "source": [
    "## Cleaning Dataset"
   ]
  },
  {
   "cell_type": "markdown",
   "metadata": {},
   "source": [
    "### New York"
   ]
  },
  {
   "cell_type": "markdown",
   "metadata": {},
   "source": [
    "__Creating the Dataset useable__\n",
    "<br>\n",
    "Here we will remove all unwanted data from the dataframe."
   ]
  },
  {
   "cell_type": "code",
   "execution_count": 38,
   "metadata": {},
   "outputs": [
    {
     "data": {
      "text/html": [
       "<div>\n",
       "<style scoped>\n",
       "    .dataframe tbody tr th:only-of-type {\n",
       "        vertical-align: middle;\n",
       "    }\n",
       "\n",
       "    .dataframe tbody tr th {\n",
       "        vertical-align: top;\n",
       "    }\n",
       "\n",
       "    .dataframe thead th {\n",
       "        text-align: right;\n",
       "    }\n",
       "</style>\n",
       "<table border=\"1\" class=\"dataframe\">\n",
       "  <thead>\n",
       "    <tr style=\"text-align: right;\">\n",
       "      <th></th>\n",
       "      <th>Name</th>\n",
       "      <th>Lat</th>\n",
       "      <th>Long</th>\n",
       "      <th>Dist</th>\n",
       "    </tr>\n",
       "  </thead>\n",
       "  <tbody>\n",
       "    <tr>\n",
       "      <th>0</th>\n",
       "      <td>NewYork-Presbyterian-Lower Manhattan Hospital</td>\n",
       "      <td>40.709917</td>\n",
       "      <td>-74.004758</td>\n",
       "      <td>330</td>\n",
       "    </tr>\n",
       "    <tr>\n",
       "      <th>1</th>\n",
       "      <td>NY Presbyterian Hospital Lower Manhattan Hosp ER</td>\n",
       "      <td>40.709985</td>\n",
       "      <td>-74.004720</td>\n",
       "      <td>324</td>\n",
       "    </tr>\n",
       "    <tr>\n",
       "      <th>2</th>\n",
       "      <td>Battery Park Veterinary Hospital</td>\n",
       "      <td>40.708163</td>\n",
       "      <td>-74.017927</td>\n",
       "      <td>1126</td>\n",
       "    </tr>\n",
       "    <tr>\n",
       "      <th>3</th>\n",
       "      <td>Bellevue Hospital Center</td>\n",
       "      <td>40.739475</td>\n",
       "      <td>-73.975453</td>\n",
       "      <td>3938</td>\n",
       "    </tr>\n",
       "    <tr>\n",
       "      <th>4</th>\n",
       "      <td>Tribeca Soho Animal Hospital</td>\n",
       "      <td>40.720578</td>\n",
       "      <td>-74.004869</td>\n",
       "      <td>879</td>\n",
       "    </tr>\n",
       "  </tbody>\n",
       "</table>\n",
       "</div>"
      ],
      "text/plain": [
       "                                               Name        Lat       Long  \\\n",
       "0     NewYork-Presbyterian-Lower Manhattan Hospital  40.709917 -74.004758   \n",
       "1  NY Presbyterian Hospital Lower Manhattan Hosp ER  40.709985 -74.004720   \n",
       "2                  Battery Park Veterinary Hospital  40.708163 -74.017927   \n",
       "3                          Bellevue Hospital Center  40.739475 -73.975453   \n",
       "4                      Tribeca Soho Animal Hospital  40.720578 -74.004869   \n",
       "\n",
       "   Dist  \n",
       "0   330  \n",
       "1   324  \n",
       "2  1126  \n",
       "3  3938  \n",
       "4   879  "
      ]
     },
     "execution_count": 38,
     "metadata": {},
     "output_type": "execute_result"
    }
   ],
   "source": [
    "df_ny = df_ny[['name','location.lat','location.lng','location.distance']]\n",
    "df_ny.rename(columns={\"name\": \"Name\", \"location.lat\": \"Lat\", \"location.lng\": \"Long\", \"location.distance\" : \"Dist\"}, inplace = True)\n",
    "df_ny.head()"
   ]
  },
  {
   "cell_type": "markdown",
   "metadata": {},
   "source": [
    "### Tokyo"
   ]
  },
  {
   "cell_type": "markdown",
   "metadata": {},
   "source": [
    "__Creating the Dataset useable__\n",
    "<br>\n",
    "Here we will remove all unwanted data from the dataframe."
   ]
  },
  {
   "cell_type": "code",
   "execution_count": 39,
   "metadata": {},
   "outputs": [
    {
     "data": {
      "text/html": [
       "<div>\n",
       "<style scoped>\n",
       "    .dataframe tbody tr th:only-of-type {\n",
       "        vertical-align: middle;\n",
       "    }\n",
       "\n",
       "    .dataframe tbody tr th {\n",
       "        vertical-align: top;\n",
       "    }\n",
       "\n",
       "    .dataframe thead th {\n",
       "        text-align: right;\n",
       "    }\n",
       "</style>\n",
       "<table border=\"1\" class=\"dataframe\">\n",
       "  <thead>\n",
       "    <tr style=\"text-align: right;\">\n",
       "      <th></th>\n",
       "      <th>Name</th>\n",
       "      <th>Lat</th>\n",
       "      <th>Long</th>\n",
       "      <th>Dist</th>\n",
       "    </tr>\n",
       "  </thead>\n",
       "  <tbody>\n",
       "    <tr>\n",
       "      <th>0</th>\n",
       "      <td>Toranomon Hospital (虎の門病院)</td>\n",
       "      <td>35.668780</td>\n",
       "      <td>139.746678</td>\n",
       "      <td>1945</td>\n",
       "    </tr>\n",
       "    <tr>\n",
       "      <th>1</th>\n",
       "      <td>St. Luke's Hospital (聖路加国際病院)</td>\n",
       "      <td>35.667372</td>\n",
       "      <td>139.777500</td>\n",
       "      <td>2372</td>\n",
       "    </tr>\n",
       "    <tr>\n",
       "      <th>2</th>\n",
       "      <td>Keio University Hospital (慶應義塾大学病院)</td>\n",
       "      <td>35.681880</td>\n",
       "      <td>139.717972</td>\n",
       "      <td>3752</td>\n",
       "    </tr>\n",
       "    <tr>\n",
       "      <th>3</th>\n",
       "      <td>Yokohama Municipal Citizen’s Hospital (横浜市立市民病院)</td>\n",
       "      <td>35.468858</td>\n",
       "      <td>139.604816</td>\n",
       "      <td>27630</td>\n",
       "    </tr>\n",
       "    <tr>\n",
       "      <th>4</th>\n",
       "      <td>International University of Health and Werfare...</td>\n",
       "      <td>35.756844</td>\n",
       "      <td>139.902540</td>\n",
       "      <td>15332</td>\n",
       "    </tr>\n",
       "  </tbody>\n",
       "</table>\n",
       "</div>"
      ],
      "text/plain": [
       "                                                Name        Lat        Long  \\\n",
       "0                         Toranomon Hospital (虎の門病院)  35.668780  139.746678   \n",
       "1                      St. Luke's Hospital (聖路加国際病院)  35.667372  139.777500   \n",
       "2                Keio University Hospital (慶應義塾大学病院)  35.681880  139.717972   \n",
       "3   Yokohama Municipal Citizen’s Hospital (横浜市立市民病院)  35.468858  139.604816   \n",
       "4  International University of Health and Werfare...  35.756844  139.902540   \n",
       "\n",
       "    Dist  \n",
       "0   1945  \n",
       "1   2372  \n",
       "2   3752  \n",
       "3  27630  \n",
       "4  15332  "
      ]
     },
     "execution_count": 39,
     "metadata": {},
     "output_type": "execute_result"
    }
   ],
   "source": [
    "df_tk = df_tk[['name','location.lat','location.lng','location.distance']]\n",
    "df_tk.rename(columns={\"name\": \"Name\", \"location.lat\": \"Lat\", \"location.lng\": \"Long\", \"location.distance\" : \"Dist\"}, inplace = True)\n",
    "df_tk.head()"
   ]
  },
  {
   "cell_type": "markdown",
   "metadata": {},
   "source": [
    "### Paris"
   ]
  },
  {
   "cell_type": "markdown",
   "metadata": {},
   "source": [
    "__Creating the Dataset useable__\n",
    "<br>\n",
    "Here we will remove all unwanted data from the dataframe."
   ]
  },
  {
   "cell_type": "code",
   "execution_count": 40,
   "metadata": {},
   "outputs": [
    {
     "data": {
      "text/html": [
       "<div>\n",
       "<style scoped>\n",
       "    .dataframe tbody tr th:only-of-type {\n",
       "        vertical-align: middle;\n",
       "    }\n",
       "\n",
       "    .dataframe tbody tr th {\n",
       "        vertical-align: top;\n",
       "    }\n",
       "\n",
       "    .dataframe thead th {\n",
       "        text-align: right;\n",
       "    }\n",
       "</style>\n",
       "<table border=\"1\" class=\"dataframe\">\n",
       "  <thead>\n",
       "    <tr style=\"text-align: right;\">\n",
       "      <th></th>\n",
       "      <th>Name</th>\n",
       "      <th>Lat</th>\n",
       "      <th>Long</th>\n",
       "      <th>Dist</th>\n",
       "    </tr>\n",
       "  </thead>\n",
       "  <tbody>\n",
       "    <tr>\n",
       "      <th>0</th>\n",
       "      <td>Hospital Nnecker</td>\n",
       "      <td>48.870183</td>\n",
       "      <td>2.351002</td>\n",
       "      <td>1501</td>\n",
       "    </tr>\n",
       "    <tr>\n",
       "      <th>1</th>\n",
       "      <td>American Hospital of Paris</td>\n",
       "      <td>48.870697</td>\n",
       "      <td>2.331678</td>\n",
       "      <td>2127</td>\n",
       "    </tr>\n",
       "    <tr>\n",
       "      <th>2</th>\n",
       "      <td>Hospital Paul D Egine</td>\n",
       "      <td>48.811221</td>\n",
       "      <td>2.516621</td>\n",
       "      <td>13118</td>\n",
       "    </tr>\n",
       "    <tr>\n",
       "      <th>3</th>\n",
       "      <td>American Hospital Paris</td>\n",
       "      <td>48.872050</td>\n",
       "      <td>2.309073</td>\n",
       "      <td>3543</td>\n",
       "    </tr>\n",
       "    <tr>\n",
       "      <th>4</th>\n",
       "      <td>Hôpital de la Pitié-Salpêtrière</td>\n",
       "      <td>48.837549</td>\n",
       "      <td>2.364292</td>\n",
       "      <td>2329</td>\n",
       "    </tr>\n",
       "  </tbody>\n",
       "</table>\n",
       "</div>"
      ],
      "text/plain": [
       "                              Name        Lat      Long   Dist\n",
       "0                 Hospital Nnecker  48.870183  2.351002   1501\n",
       "1       American Hospital of Paris  48.870697  2.331678   2127\n",
       "2            Hospital Paul D Egine  48.811221  2.516621  13118\n",
       "3          American Hospital Paris  48.872050  2.309073   3543\n",
       "4  Hôpital de la Pitié-Salpêtrière  48.837549  2.364292   2329"
      ]
     },
     "execution_count": 40,
     "metadata": {},
     "output_type": "execute_result"
    }
   ],
   "source": [
    "df_pr = df_pr[['name','location.lat','location.lng','location.distance']]\n",
    "df_pr.rename(columns={\"name\": \"Name\", \"location.lat\": \"Lat\", \"location.lng\": \"Long\", \"location.distance\" : \"Dist\"}, inplace = True)\n",
    "df_pr.head()"
   ]
  },
  {
   "cell_type": "markdown",
   "metadata": {},
   "source": [
    "## Plotting"
   ]
  },
  {
   "cell_type": "markdown",
   "metadata": {},
   "source": [
    "### New York"
   ]
  },
  {
   "cell_type": "markdown",
   "metadata": {},
   "source": [
    "__Plotting it on Map__"
   ]
  },
  {
   "cell_type": "code",
   "execution_count": 41,
   "metadata": {},
   "outputs": [],
   "source": [
    "ny_map = folium.Map(location=[ny_latitude, ny_longitude], zoom_start=10)\n",
    "\n",
    "# add the hospitals as blue circle markers\n",
    "for lat, lng, label in zip(df_ny.Lat, df_ny.Long, df_ny.Name):\n",
    "    folium.features.CircleMarker(\n",
    "        [lat, lng],\n",
    "        radius=5,\n",
    "        color='blue',\n",
    "        popup=label,\n",
    "        fill = True,\n",
    "        fill_color='blue',\n",
    "        fill_opacity=0.6\n",
    "    ).add_to(ny_map)\n",
    "\n",
    "# display map\n",
    "ny_map"
   ]
  },
  {
   "cell_type": "markdown",
   "metadata": {},
   "source": [
    "### Tokyo"
   ]
  },
  {
   "cell_type": "markdown",
   "metadata": {},
   "source": [
    "__Plotting it on Map__"
   ]
  },
  {
   "cell_type": "code",
   "execution_count": 45,
   "metadata": {},
   "outputs": [
    {
     "data": {
      "text/html": [
       "<div style=\"width:100%;\"><div style=\"position:relative;width:100%;height:0;padding-bottom:60%;\"><iframe src=\"about:blank\" style=\"position:absolute;width:100%;height:100%;left:0;top:0;border:none !important;\" data-html=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 onload=\"this.contentDocument.open();this.contentDocument.write(atob(this.getAttribute('data-html')));this.contentDocument.close();\" allowfullscreen webkitallowfullscreen mozallowfullscreen></iframe></div></div>"
      ],
      "text/plain": [
       "<folium.folium.Map at 0x185f4fa7da0>"
      ]
     },
     "metadata": {},
     "output_type": "display_data"
    }
   ],
   "source": [
    "tk_map = folium.Map(location=[tk_latitude, tk_longitude], zoom_start=10)\n",
    "\n",
    "# add the hospitals as blue circle markers\n",
    "for lat, lng, label in zip(df_tk.Lat, df_tk.Long, df_tk.Name):\n",
    "    folium.features.CircleMarker(\n",
    "        [lat, lng],\n",
    "        radius=5,\n",
    "        color='blue',\n",
    "        popup=label,\n",
    "        fill = True,\n",
    "        fill_color='blue',\n",
    "        fill_opacity=0.6\n",
    "    ).add_to(tk_map)\n",
    "\n",
    "# display map\n",
    "tk_map"
   ]
  },
  {
   "cell_type": "markdown",
   "metadata": {},
   "source": [
    "__Plotting it on Map__"
   ]
  },
  {
   "cell_type": "code",
   "execution_count": 44,
   "metadata": {},
   "outputs": [
    {
     "data": {
      "text/html": [
       "<div style=\"width:100%;\"><div style=\"position:relative;width:100%;height:0;padding-bottom:60%;\"><iframe src=\"about:blank\" style=\"position:absolute;width:100%;height:100%;left:0;top:0;border:none !important;\" data-html=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 onload=\"this.contentDocument.open();this.contentDocument.write(atob(this.getAttribute('data-html')));this.contentDocument.close();\" allowfullscreen webkitallowfullscreen mozallowfullscreen></iframe></div></div>"
      ],
      "text/plain": [
       "<folium.folium.Map at 0x185f4fa7d30>"
      ]
     },
     "metadata": {},
     "output_type": "display_data"
    }
   ],
   "source": [
    "from IPython.display import display\n",
    "pr_map = folium.Map(location=[pr_latitude, pr_longitude], zoom_start=10)\n",
    "\n",
    "# add the hospitals as blue circle markers\n",
    "for lat, lng, label in zip(df_pr.Lat, df_pr.Long, df_pr.Name):\n",
    "    folium.features.CircleMarker(\n",
    "        [lat, lng],\n",
    "        radius=5,\n",
    "        color='blue',\n",
    "        popup=label,\n",
    "        fill = True,\n",
    "        fill_color='blue',\n",
    "        fill_opacity=0.6\n",
    "    ).add_to(pr_map)\n",
    "\n",
    "# display map\n",
    "pr_map"
   ]
  },
  {
   "cell_type": "code",
   "execution_count": null,
   "metadata": {},
   "outputs": [],
   "source": []
  }
 ],
 "metadata": {
  "kernelspec": {
   "display_name": "Python 3",
   "language": "python",
   "name": "python3"
  },
  "language_info": {
   "codemirror_mode": {
    "name": "ipython",
    "version": 3
   },
   "file_extension": ".py",
   "mimetype": "text/x-python",
   "name": "python",
   "nbconvert_exporter": "python",
   "pygments_lexer": "ipython3",
   "version": "3.6.5"
  }
 },
 "nbformat": 4,
 "nbformat_minor": 2
}
