{
 "cells": [
  {
   "cell_type": "markdown",
   "metadata": {},
   "source": [
    "# Find the Nearest Hospitals"
   ]
  },
  {
   "cell_type": "markdown",
   "metadata": {},
   "source": [
    "This projects aims at locating hospitals in densely populated cities such as New York, Tokyo, and Paris and compare it with it's population and analysig the city for pandemic situation"
   ]
  },
  {
   "cell_type": "code",
   "execution_count": 1,
   "metadata": {},
   "outputs": [
    {
     "name": "stdout",
     "output_type": "stream",
     "text": [
      "Collecting package metadata (repodata.json): ...working... done\n",
      "Solving environment: ...working... done\n",
      "\n",
      "# All requested packages already installed.\n",
      "\n",
      "Folium installed\n",
      "Libraries imported.\n"
     ]
    }
   ],
   "source": [
    "import requests # library to handle requests\n",
    "import pandas as pd # library for data analsysis\n",
    "import numpy as np # library to handle data in a vectorized manner\n",
    "import random # library for random number generation\n",
    "\n",
    "#!conda install -c conda-forge geopy --yes \n",
    "from geopy.geocoders import Nominatim # module to convert an address into latitude and longitude values\n",
    "\n",
    "# libraries for displaying images\n",
    "from IPython.display import Image \n",
    "from IPython.core.display import HTML \n",
    "    \n",
    "# tranforming json file into a pandas dataframe library\n",
    "from pandas.io.json import json_normalize\n",
    "\n",
    "#!conda install -c conda-forge folium=0.5.0 --yes\n",
    "import folium # plotting library\n",
    "\n",
    "# print('Folium installed')\n",
    "# print('Libraries imported.')"
   ]
  },
  {
   "cell_type": "markdown",
   "metadata": {},
   "source": [
    "**Setting up the API**"
   ]
  },
  {
   "cell_type": "code",
   "execution_count": 2,
   "metadata": {},
   "outputs": [
    {
     "name": "stdout",
     "output_type": "stream",
     "text": [
      "Your credentails:\n",
      "CLIENT_ID: 2IW1RLL2EC22MEO0NCI0LCSWT2H4R2SX5UZJZBLL2V3O3AFJ\n",
      "CLIENT_SECRET:0G23CDVM3O5K3PTMWODT15JX2QG14ZJOB5ZLCS5DOBWNGK2B\n"
     ]
    }
   ],
   "source": [
    "CLIENT_ID = '2IW1RLL2EC22MEO0NCI0LCSWT2H4R2SX5UZJZBLL2V3O3AFJ' # your Foursquare ID\n",
    "CLIENT_SECRET = '0G23CDVM3O5K3PTMWODT15JX2QG14ZJOB5ZLCS5DOBWNGK2B' # your Foursquare Secret\n",
    "VERSION = '20180604'\n",
    "LIMIT = 30\n",
    "print('Your credentails:')\n",
    "print('CLIENT_ID: ' + CLIENT_ID)\n",
    "print('CLIENT_SECRET:' + CLIENT_SECRET)"
   ]
  },
  {
   "cell_type": "markdown",
   "metadata": {},
   "source": [
    "## Data importing "
   ]
  },
  {
   "cell_type": "markdown",
   "metadata": {},
   "source": [
    "### New York"
   ]
  },
  {
   "cell_type": "markdown",
   "metadata": {},
   "source": [
    "__Locating New York__"
   ]
  },
  {
   "cell_type": "code",
   "execution_count": 3,
   "metadata": {},
   "outputs": [
    {
     "name": "stdout",
     "output_type": "stream",
     "text": [
      "40.7127281 -74.0060152\n"
     ]
    }
   ],
   "source": [
    "address = 'New York, NY'\n",
    "\n",
    "geolocator = Nominatim(user_agent=\"foursquare_agent\")\n",
    "location = geolocator.geocode(address)\n",
    "latitude = location.latitude\n",
    "longitude = location.longitude\n",
    "print(latitude, longitude)"
   ]
  },
  {
   "cell_type": "markdown",
   "metadata": {},
   "source": [
    "__Searching Hospitals__"
   ]
  },
  {
   "cell_type": "code",
   "execution_count": 4,
   "metadata": {},
   "outputs": [
    {
     "name": "stdout",
     "output_type": "stream",
     "text": [
      "Hospital .... OK!\n"
     ]
    }
   ],
   "source": [
    "search_query = 'Hospital'\n",
    "radius = 40000\n",
    "print(search_query + ' .... OK!')\n",
    "url = 'https://api.foursquare.com/v2/venues/search?client_id={}&client_secret={}&ll={},{}&v={}&query={}&radius={}&limit={}'.format(CLIENT_ID, CLIENT_SECRET, latitude, longitude, VERSION, search_query, radius, LIMIT)\n",
    "results = requests.get(url).json()"
   ]
  },
  {
   "cell_type": "markdown",
   "metadata": {},
   "source": [
    "__Converting into Data Frame__"
   ]
  },
  {
   "cell_type": "code",
   "execution_count": 5,
   "metadata": {},
   "outputs": [
    {
     "name": "stderr",
     "output_type": "stream",
     "text": [
      "C:\\Users\\Rahul\\Anaconda3\\lib\\site-packages\\ipykernel_launcher.py:5: FutureWarning: pandas.io.json.json_normalize is deprecated, use pandas.json_normalize instead\n",
      "  \"\"\"\n"
     ]
    },
    {
     "data": {
      "text/html": [
       "<div>\n",
       "<style scoped>\n",
       "    .dataframe tbody tr th:only-of-type {\n",
       "        vertical-align: middle;\n",
       "    }\n",
       "\n",
       "    .dataframe tbody tr th {\n",
       "        vertical-align: top;\n",
       "    }\n",
       "\n",
       "    .dataframe thead th {\n",
       "        text-align: right;\n",
       "    }\n",
       "</style>\n",
       "<table border=\"1\" class=\"dataframe\">\n",
       "  <thead>\n",
       "    <tr style=\"text-align: right;\">\n",
       "      <th></th>\n",
       "      <th>id</th>\n",
       "      <th>name</th>\n",
       "      <th>categories</th>\n",
       "      <th>referralId</th>\n",
       "      <th>hasPerk</th>\n",
       "      <th>location.address</th>\n",
       "      <th>location.crossStreet</th>\n",
       "      <th>location.lat</th>\n",
       "      <th>location.lng</th>\n",
       "      <th>location.labeledLatLngs</th>\n",
       "      <th>location.distance</th>\n",
       "      <th>location.postalCode</th>\n",
       "      <th>location.cc</th>\n",
       "      <th>location.city</th>\n",
       "      <th>location.state</th>\n",
       "      <th>location.country</th>\n",
       "      <th>location.formattedAddress</th>\n",
       "      <th>venuePage.id</th>\n",
       "      <th>location.neighborhood</th>\n",
       "    </tr>\n",
       "  </thead>\n",
       "  <tbody>\n",
       "    <tr>\n",
       "      <th>0</th>\n",
       "      <td>4a82ef0af964a52092f91fe3</td>\n",
       "      <td>NewYork-Presbyterian-Lower Manhattan Hospital</td>\n",
       "      <td>[{'id': '4bf58dd8d48988d196941735', 'name': 'H...</td>\n",
       "      <td>v-1589778394</td>\n",
       "      <td>False</td>\n",
       "      <td>170 William St</td>\n",
       "      <td>at Gold St</td>\n",
       "      <td>40.709917</td>\n",
       "      <td>-74.004758</td>\n",
       "      <td>[{'label': 'display', 'lat': 40.7099166, 'lng'...</td>\n",
       "      <td>330</td>\n",
       "      <td>10038</td>\n",
       "      <td>US</td>\n",
       "      <td>New York</td>\n",
       "      <td>NY</td>\n",
       "      <td>United States</td>\n",
       "      <td>[170 William St (at Gold St), New York, NY 100...</td>\n",
       "      <td>NaN</td>\n",
       "      <td>NaN</td>\n",
       "    </tr>\n",
       "    <tr>\n",
       "      <th>1</th>\n",
       "      <td>4bad1a23f964a520b62d3be3</td>\n",
       "      <td>NY Presbyterian Hospital Lower Manhattan Hosp ER</td>\n",
       "      <td>[{'id': '4bf58dd8d48988d194941735', 'name': 'E...</td>\n",
       "      <td>v-1589778394</td>\n",
       "      <td>False</td>\n",
       "      <td>NaN</td>\n",
       "      <td>NaN</td>\n",
       "      <td>40.709985</td>\n",
       "      <td>-74.004720</td>\n",
       "      <td>[{'label': 'display', 'lat': 40.70998454215684...</td>\n",
       "      <td>324</td>\n",
       "      <td>NaN</td>\n",
       "      <td>US</td>\n",
       "      <td>New York</td>\n",
       "      <td>NY</td>\n",
       "      <td>United States</td>\n",
       "      <td>[New York, NY, United States]</td>\n",
       "      <td>NaN</td>\n",
       "      <td>NaN</td>\n",
       "    </tr>\n",
       "    <tr>\n",
       "      <th>2</th>\n",
       "      <td>4a43baaaf964a520b9a61fe3</td>\n",
       "      <td>Bellevue Hospital Center</td>\n",
       "      <td>[{'id': '4bf58dd8d48988d196941735', 'name': 'H...</td>\n",
       "      <td>v-1589778394</td>\n",
       "      <td>False</td>\n",
       "      <td>462 1st Ave</td>\n",
       "      <td>btwn E 26th &amp; E 28th St</td>\n",
       "      <td>40.739475</td>\n",
       "      <td>-73.975453</td>\n",
       "      <td>[{'label': 'display', 'lat': 40.73947458905508...</td>\n",
       "      <td>3938</td>\n",
       "      <td>10016</td>\n",
       "      <td>US</td>\n",
       "      <td>New York</td>\n",
       "      <td>NY</td>\n",
       "      <td>United States</td>\n",
       "      <td>[462 1st Ave (btwn E 26th &amp; E 28th St), New Yo...</td>\n",
       "      <td>NaN</td>\n",
       "      <td>NaN</td>\n",
       "    </tr>\n",
       "    <tr>\n",
       "      <th>3</th>\n",
       "      <td>4bc3820374a9a593eba5d4f6</td>\n",
       "      <td>Battery Park Veterinary Hospital</td>\n",
       "      <td>[{'id': '4d954af4a243a5684765b473', 'name': 'V...</td>\n",
       "      <td>v-1589778394</td>\n",
       "      <td>False</td>\n",
       "      <td>21 South End Ave., Ground Floor</td>\n",
       "      <td>W Thames St</td>\n",
       "      <td>40.708163</td>\n",
       "      <td>-74.017927</td>\n",
       "      <td>[{'label': 'display', 'lat': 40.70816281460506...</td>\n",
       "      <td>1126</td>\n",
       "      <td>10280</td>\n",
       "      <td>US</td>\n",
       "      <td>New York</td>\n",
       "      <td>NY</td>\n",
       "      <td>United States</td>\n",
       "      <td>[21 South End Ave., Ground Floor (W Thames St)...</td>\n",
       "      <td>33365449</td>\n",
       "      <td>NaN</td>\n",
       "    </tr>\n",
       "    <tr>\n",
       "      <th>4</th>\n",
       "      <td>4b1c0e79f964a5205c0124e3</td>\n",
       "      <td>Tribeca Soho Animal Hospital</td>\n",
       "      <td>[{'id': '4d954af4a243a5684765b473', 'name': 'V...</td>\n",
       "      <td>v-1589778394</td>\n",
       "      <td>False</td>\n",
       "      <td>5 Lispenard St</td>\n",
       "      <td>Near Corner of 6th Avenue and Lispenard</td>\n",
       "      <td>40.720578</td>\n",
       "      <td>-74.004869</td>\n",
       "      <td>[{'label': 'display', 'lat': 40.72057803284648...</td>\n",
       "      <td>879</td>\n",
       "      <td>10013</td>\n",
       "      <td>US</td>\n",
       "      <td>New York</td>\n",
       "      <td>NY</td>\n",
       "      <td>United States</td>\n",
       "      <td>[5 Lispenard St (Near Corner of 6th Avenue and...</td>\n",
       "      <td>33365451</td>\n",
       "      <td>NaN</td>\n",
       "    </tr>\n",
       "  </tbody>\n",
       "</table>\n",
       "</div>"
      ],
      "text/plain": [
       "                         id                                              name  \\\n",
       "0  4a82ef0af964a52092f91fe3     NewYork-Presbyterian-Lower Manhattan Hospital   \n",
       "1  4bad1a23f964a520b62d3be3  NY Presbyterian Hospital Lower Manhattan Hosp ER   \n",
       "2  4a43baaaf964a520b9a61fe3                          Bellevue Hospital Center   \n",
       "3  4bc3820374a9a593eba5d4f6                  Battery Park Veterinary Hospital   \n",
       "4  4b1c0e79f964a5205c0124e3                      Tribeca Soho Animal Hospital   \n",
       "\n",
       "                                          categories    referralId  hasPerk  \\\n",
       "0  [{'id': '4bf58dd8d48988d196941735', 'name': 'H...  v-1589778394    False   \n",
       "1  [{'id': '4bf58dd8d48988d194941735', 'name': 'E...  v-1589778394    False   \n",
       "2  [{'id': '4bf58dd8d48988d196941735', 'name': 'H...  v-1589778394    False   \n",
       "3  [{'id': '4d954af4a243a5684765b473', 'name': 'V...  v-1589778394    False   \n",
       "4  [{'id': '4d954af4a243a5684765b473', 'name': 'V...  v-1589778394    False   \n",
       "\n",
       "                  location.address                     location.crossStreet  \\\n",
       "0                   170 William St                               at Gold St   \n",
       "1                              NaN                                      NaN   \n",
       "2                      462 1st Ave                  btwn E 26th & E 28th St   \n",
       "3  21 South End Ave., Ground Floor                              W Thames St   \n",
       "4                   5 Lispenard St  Near Corner of 6th Avenue and Lispenard   \n",
       "\n",
       "   location.lat  location.lng  \\\n",
       "0     40.709917    -74.004758   \n",
       "1     40.709985    -74.004720   \n",
       "2     40.739475    -73.975453   \n",
       "3     40.708163    -74.017927   \n",
       "4     40.720578    -74.004869   \n",
       "\n",
       "                             location.labeledLatLngs  location.distance  \\\n",
       "0  [{'label': 'display', 'lat': 40.7099166, 'lng'...                330   \n",
       "1  [{'label': 'display', 'lat': 40.70998454215684...                324   \n",
       "2  [{'label': 'display', 'lat': 40.73947458905508...               3938   \n",
       "3  [{'label': 'display', 'lat': 40.70816281460506...               1126   \n",
       "4  [{'label': 'display', 'lat': 40.72057803284648...                879   \n",
       "\n",
       "  location.postalCode location.cc location.city location.state  \\\n",
       "0               10038          US      New York             NY   \n",
       "1                 NaN          US      New York             NY   \n",
       "2               10016          US      New York             NY   \n",
       "3               10280          US      New York             NY   \n",
       "4               10013          US      New York             NY   \n",
       "\n",
       "  location.country                          location.formattedAddress  \\\n",
       "0    United States  [170 William St (at Gold St), New York, NY 100...   \n",
       "1    United States                      [New York, NY, United States]   \n",
       "2    United States  [462 1st Ave (btwn E 26th & E 28th St), New Yo...   \n",
       "3    United States  [21 South End Ave., Ground Floor (W Thames St)...   \n",
       "4    United States  [5 Lispenard St (Near Corner of 6th Avenue and...   \n",
       "\n",
       "  venuePage.id location.neighborhood  \n",
       "0          NaN                   NaN  \n",
       "1          NaN                   NaN  \n",
       "2          NaN                   NaN  \n",
       "3     33365449                   NaN  \n",
       "4     33365451                   NaN  "
      ]
     },
     "execution_count": 5,
     "metadata": {},
     "output_type": "execute_result"
    }
   ],
   "source": [
    "# assign relevant part of JSON to hospitals\n",
    "hospitals = results['response']['venues']\n",
    "\n",
    "# tranform hospitals into a dataframe\n",
    "df_ny = json_normalize(hospitals)\n",
    "df_ny.head()"
   ]
  },
  {
   "cell_type": "markdown",
   "metadata": {},
   "source": [
    "### Tokyo"
   ]
  },
  {
   "cell_type": "markdown",
   "metadata": {},
   "source": [
    "__Locating Tokyo__"
   ]
  },
  {
   "cell_type": "code",
   "execution_count": 6,
   "metadata": {},
   "outputs": [
    {
     "name": "stdout",
     "output_type": "stream",
     "text": [
      "35.6828387 139.7594549\n"
     ]
    }
   ],
   "source": [
    "address = 'Tokyo, Japan'\n",
    "\n",
    "geolocator = Nominatim(user_agent=\"foursquare_agent\")\n",
    "location = geolocator.geocode(address)\n",
    "latitude = location.latitude\n",
    "longitude = location.longitude\n",
    "print(latitude, longitude)"
   ]
  },
  {
   "cell_type": "markdown",
   "metadata": {},
   "source": [
    "__Searching Hospitals__"
   ]
  },
  {
   "cell_type": "code",
   "execution_count": 7,
   "metadata": {},
   "outputs": [
    {
     "name": "stdout",
     "output_type": "stream",
     "text": [
      "Hospital .... OK!\n"
     ]
    }
   ],
   "source": [
    "search_query = 'Hospital'\n",
    "radius = 40000\n",
    "print(search_query + ' .... OK!')\n",
    "url = 'https://api.foursquare.com/v2/venues/search?client_id={}&client_secret={}&ll={},{}&v={}&query={}&radius={}&limit={}'.format(CLIENT_ID, CLIENT_SECRET, latitude, longitude, VERSION, search_query, radius, LIMIT)\n",
    "results = requests.get(url).json()"
   ]
  },
  {
   "cell_type": "markdown",
   "metadata": {},
   "source": [
    "__Converting into Data Frame__"
   ]
  },
  {
   "cell_type": "code",
   "execution_count": 8,
   "metadata": {},
   "outputs": [
    {
     "name": "stderr",
     "output_type": "stream",
     "text": [
      "C:\\Users\\Rahul\\Anaconda3\\lib\\site-packages\\ipykernel_launcher.py:5: FutureWarning: pandas.io.json.json_normalize is deprecated, use pandas.json_normalize instead\n",
      "  \"\"\"\n"
     ]
    },
    {
     "data": {
      "text/html": [
       "<div>\n",
       "<style scoped>\n",
       "    .dataframe tbody tr th:only-of-type {\n",
       "        vertical-align: middle;\n",
       "    }\n",
       "\n",
       "    .dataframe tbody tr th {\n",
       "        vertical-align: top;\n",
       "    }\n",
       "\n",
       "    .dataframe thead th {\n",
       "        text-align: right;\n",
       "    }\n",
       "</style>\n",
       "<table border=\"1\" class=\"dataframe\">\n",
       "  <thead>\n",
       "    <tr style=\"text-align: right;\">\n",
       "      <th></th>\n",
       "      <th>id</th>\n",
       "      <th>name</th>\n",
       "      <th>categories</th>\n",
       "      <th>referralId</th>\n",
       "      <th>hasPerk</th>\n",
       "      <th>location.address</th>\n",
       "      <th>location.lat</th>\n",
       "      <th>location.lng</th>\n",
       "      <th>location.labeledLatLngs</th>\n",
       "      <th>location.distance</th>\n",
       "      <th>location.postalCode</th>\n",
       "      <th>location.cc</th>\n",
       "      <th>location.city</th>\n",
       "      <th>location.state</th>\n",
       "      <th>location.country</th>\n",
       "      <th>location.formattedAddress</th>\n",
       "      <th>location.crossStreet</th>\n",
       "      <th>location.neighborhood</th>\n",
       "    </tr>\n",
       "  </thead>\n",
       "  <tbody>\n",
       "    <tr>\n",
       "      <th>0</th>\n",
       "      <td>4b7e3469f964a520ffe52fe3</td>\n",
       "      <td>Toranomon Hospital (虎の門病院)</td>\n",
       "      <td>[{'id': '4bf58dd8d48988d196941735', 'name': 'H...</td>\n",
       "      <td>v-1589778396</td>\n",
       "      <td>False</td>\n",
       "      <td>虎ノ門2-2-2</td>\n",
       "      <td>35.668780</td>\n",
       "      <td>139.746678</td>\n",
       "      <td>[{'label': 'display', 'lat': 35.66878028496117...</td>\n",
       "      <td>1945</td>\n",
       "      <td>105-0001</td>\n",
       "      <td>JP</td>\n",
       "      <td>港区</td>\n",
       "      <td>東京都</td>\n",
       "      <td>日本</td>\n",
       "      <td>[虎ノ門2-2-2, 港区, 東京都, 105-0001, 日本]</td>\n",
       "      <td>NaN</td>\n",
       "      <td>NaN</td>\n",
       "    </tr>\n",
       "    <tr>\n",
       "      <th>1</th>\n",
       "      <td>4b8dc254f964a520620c33e3</td>\n",
       "      <td>St. Luke's Hospital (聖路加国際病院)</td>\n",
       "      <td>[{'id': '4bf58dd8d48988d196941735', 'name': 'H...</td>\n",
       "      <td>v-1589778396</td>\n",
       "      <td>False</td>\n",
       "      <td>明石町9-1</td>\n",
       "      <td>35.667372</td>\n",
       "      <td>139.777500</td>\n",
       "      <td>[{'label': 'display', 'lat': 35.66737156875987...</td>\n",
       "      <td>2372</td>\n",
       "      <td>104-8560</td>\n",
       "      <td>JP</td>\n",
       "      <td>東京</td>\n",
       "      <td>東京都</td>\n",
       "      <td>日本</td>\n",
       "      <td>[明石町9-1, 中央区, 東京都, 104-8560, 日本]</td>\n",
       "      <td>NaN</td>\n",
       "      <td>NaN</td>\n",
       "    </tr>\n",
       "    <tr>\n",
       "      <th>2</th>\n",
       "      <td>4b5b90c8f964a5208b0729e3</td>\n",
       "      <td>Keio University Hospital (慶應義塾大学病院)</td>\n",
       "      <td>[{'id': '4bf58dd8d48988d196941735', 'name': 'H...</td>\n",
       "      <td>v-1589778396</td>\n",
       "      <td>False</td>\n",
       "      <td>信濃町35</td>\n",
       "      <td>35.681880</td>\n",
       "      <td>139.717972</td>\n",
       "      <td>[{'label': 'display', 'lat': 35.68188, 'lng': ...</td>\n",
       "      <td>3752</td>\n",
       "      <td>160-8582</td>\n",
       "      <td>JP</td>\n",
       "      <td>新宿区</td>\n",
       "      <td>東京都</td>\n",
       "      <td>日本</td>\n",
       "      <td>[信濃町35, 新宿区, 東京都, 160-8582, 日本]</td>\n",
       "      <td>NaN</td>\n",
       "      <td>NaN</td>\n",
       "    </tr>\n",
       "    <tr>\n",
       "      <th>3</th>\n",
       "      <td>5eab8ffd67572b0007589382</td>\n",
       "      <td>Yokohama Municipal Citizen’s Hospital (横浜市立市民病院)</td>\n",
       "      <td>[{'id': '4bf58dd8d48988d196941735', 'name': 'H...</td>\n",
       "      <td>v-1589778396</td>\n",
       "      <td>False</td>\n",
       "      <td>神奈川区三ツ沢西町1-1</td>\n",
       "      <td>35.468858</td>\n",
       "      <td>139.604816</td>\n",
       "      <td>[{'label': 'display', 'lat': 35.46885777775581...</td>\n",
       "      <td>27630</td>\n",
       "      <td>221-0855</td>\n",
       "      <td>JP</td>\n",
       "      <td>横浜市</td>\n",
       "      <td>神奈川県</td>\n",
       "      <td>日本</td>\n",
       "      <td>[神奈川区三ツ沢西町1-1, 横浜市, 神奈川県, 221-0855, 日本]</td>\n",
       "      <td>NaN</td>\n",
       "      <td>NaN</td>\n",
       "    </tr>\n",
       "    <tr>\n",
       "      <th>4</th>\n",
       "      <td>540ac2af498e8d96ee17d47f</td>\n",
       "      <td>WATCH HOSPITAL 人形町店</td>\n",
       "      <td>[{'id': '52f2ab2ebcbc57f1066b8b2e', 'name': 'W...</td>\n",
       "      <td>v-1589778396</td>\n",
       "      <td>False</td>\n",
       "      <td>日本橋人形町3-7-14</td>\n",
       "      <td>35.686308</td>\n",
       "      <td>139.782035</td>\n",
       "      <td>[{'label': 'display', 'lat': 35.68630786572771...</td>\n",
       "      <td>2077</td>\n",
       "      <td>NaN</td>\n",
       "      <td>JP</td>\n",
       "      <td>東京</td>\n",
       "      <td>東京都</td>\n",
       "      <td>日本</td>\n",
       "      <td>[日本橋人形町3-7-14, 中央区, 東京都, 日本]</td>\n",
       "      <td>NaN</td>\n",
       "      <td>NaN</td>\n",
       "    </tr>\n",
       "  </tbody>\n",
       "</table>\n",
       "</div>"
      ],
      "text/plain": [
       "                         id                                              name  \\\n",
       "0  4b7e3469f964a520ffe52fe3                        Toranomon Hospital (虎の門病院)   \n",
       "1  4b8dc254f964a520620c33e3                     St. Luke's Hospital (聖路加国際病院)   \n",
       "2  4b5b90c8f964a5208b0729e3               Keio University Hospital (慶應義塾大学病院)   \n",
       "3  5eab8ffd67572b0007589382  Yokohama Municipal Citizen’s Hospital (横浜市立市民病院)   \n",
       "4  540ac2af498e8d96ee17d47f                               WATCH HOSPITAL 人形町店   \n",
       "\n",
       "                                          categories    referralId  hasPerk  \\\n",
       "0  [{'id': '4bf58dd8d48988d196941735', 'name': 'H...  v-1589778396    False   \n",
       "1  [{'id': '4bf58dd8d48988d196941735', 'name': 'H...  v-1589778396    False   \n",
       "2  [{'id': '4bf58dd8d48988d196941735', 'name': 'H...  v-1589778396    False   \n",
       "3  [{'id': '4bf58dd8d48988d196941735', 'name': 'H...  v-1589778396    False   \n",
       "4  [{'id': '52f2ab2ebcbc57f1066b8b2e', 'name': 'W...  v-1589778396    False   \n",
       "\n",
       "  location.address  location.lat  location.lng  \\\n",
       "0         虎ノ門2-2-2     35.668780    139.746678   \n",
       "1           明石町9-1     35.667372    139.777500   \n",
       "2            信濃町35     35.681880    139.717972   \n",
       "3     神奈川区三ツ沢西町1-1     35.468858    139.604816   \n",
       "4     日本橋人形町3-7-14     35.686308    139.782035   \n",
       "\n",
       "                             location.labeledLatLngs  location.distance  \\\n",
       "0  [{'label': 'display', 'lat': 35.66878028496117...               1945   \n",
       "1  [{'label': 'display', 'lat': 35.66737156875987...               2372   \n",
       "2  [{'label': 'display', 'lat': 35.68188, 'lng': ...               3752   \n",
       "3  [{'label': 'display', 'lat': 35.46885777775581...              27630   \n",
       "4  [{'label': 'display', 'lat': 35.68630786572771...               2077   \n",
       "\n",
       "  location.postalCode location.cc location.city location.state  \\\n",
       "0            105-0001          JP            港区            東京都   \n",
       "1            104-8560          JP            東京            東京都   \n",
       "2            160-8582          JP           新宿区            東京都   \n",
       "3            221-0855          JP           横浜市           神奈川県   \n",
       "4                 NaN          JP            東京            東京都   \n",
       "\n",
       "  location.country                location.formattedAddress  \\\n",
       "0               日本        [虎ノ門2-2-2, 港区, 東京都, 105-0001, 日本]   \n",
       "1               日本         [明石町9-1, 中央区, 東京都, 104-8560, 日本]   \n",
       "2               日本          [信濃町35, 新宿区, 東京都, 160-8582, 日本]   \n",
       "3               日本  [神奈川区三ツ沢西町1-1, 横浜市, 神奈川県, 221-0855, 日本]   \n",
       "4               日本             [日本橋人形町3-7-14, 中央区, 東京都, 日本]   \n",
       "\n",
       "  location.crossStreet location.neighborhood  \n",
       "0                  NaN                   NaN  \n",
       "1                  NaN                   NaN  \n",
       "2                  NaN                   NaN  \n",
       "3                  NaN                   NaN  \n",
       "4                  NaN                   NaN  "
      ]
     },
     "execution_count": 8,
     "metadata": {},
     "output_type": "execute_result"
    }
   ],
   "source": [
    "# assign relevant part of JSON to hospitals\n",
    "hospitals = results['response']['venues']\n",
    "\n",
    "# tranform hospitals into a dataframe\n",
    "df_tk = json_normalize(hospitals)\n",
    "df_tk.head()"
   ]
  },
  {
   "cell_type": "markdown",
   "metadata": {},
   "source": [
    "### Paris"
   ]
  },
  {
   "cell_type": "markdown",
   "metadata": {},
   "source": [
    "__Locating Tokyo__"
   ]
  },
  {
   "cell_type": "code",
   "execution_count": 9,
   "metadata": {},
   "outputs": [
    {
     "name": "stdout",
     "output_type": "stream",
     "text": [
      "48.8566969 2.3514616\n"
     ]
    }
   ],
   "source": [
    "address = 'Paris, France'\n",
    "\n",
    "geolocator = Nominatim(user_agent=\"foursquare_agent\")\n",
    "location = geolocator.geocode(address)\n",
    "latitude = location.latitude\n",
    "longitude = location.longitude\n",
    "print(latitude, longitude)"
   ]
  },
  {
   "cell_type": "markdown",
   "metadata": {},
   "source": [
    "__Searching Hospitals__"
   ]
  },
  {
   "cell_type": "code",
   "execution_count": 10,
   "metadata": {},
   "outputs": [
    {
     "name": "stdout",
     "output_type": "stream",
     "text": [
      "Hospital .... OK!\n"
     ]
    }
   ],
   "source": [
    "search_query = 'Hospital'\n",
    "radius = 40000\n",
    "print(search_query + ' .... OK!')\n",
    "url = 'https://api.foursquare.com/v2/venues/search?client_id={}&client_secret={}&ll={},{}&v={}&query={}&radius={}&limit={}'.format(CLIENT_ID, CLIENT_SECRET, latitude, longitude, VERSION, search_query, radius, LIMIT)\n",
    "results = requests.get(url).json()"
   ]
  },
  {
   "cell_type": "markdown",
   "metadata": {},
   "source": [
    "__Converting into Data Frame__"
   ]
  },
  {
   "cell_type": "code",
   "execution_count": 11,
   "metadata": {},
   "outputs": [
    {
     "name": "stderr",
     "output_type": "stream",
     "text": [
      "C:\\Users\\Rahul\\Anaconda3\\lib\\site-packages\\ipykernel_launcher.py:5: FutureWarning: pandas.io.json.json_normalize is deprecated, use pandas.json_normalize instead\n",
      "  \"\"\"\n"
     ]
    },
    {
     "data": {
      "text/html": [
       "<div>\n",
       "<style scoped>\n",
       "    .dataframe tbody tr th:only-of-type {\n",
       "        vertical-align: middle;\n",
       "    }\n",
       "\n",
       "    .dataframe tbody tr th {\n",
       "        vertical-align: top;\n",
       "    }\n",
       "\n",
       "    .dataframe thead th {\n",
       "        text-align: right;\n",
       "    }\n",
       "</style>\n",
       "<table border=\"1\" class=\"dataframe\">\n",
       "  <thead>\n",
       "    <tr style=\"text-align: right;\">\n",
       "      <th></th>\n",
       "      <th>id</th>\n",
       "      <th>name</th>\n",
       "      <th>categories</th>\n",
       "      <th>referralId</th>\n",
       "      <th>hasPerk</th>\n",
       "      <th>location.lat</th>\n",
       "      <th>location.lng</th>\n",
       "      <th>location.labeledLatLngs</th>\n",
       "      <th>location.distance</th>\n",
       "      <th>location.cc</th>\n",
       "      <th>location.country</th>\n",
       "      <th>location.formattedAddress</th>\n",
       "      <th>location.address</th>\n",
       "      <th>location.postalCode</th>\n",
       "      <th>location.city</th>\n",
       "      <th>location.state</th>\n",
       "      <th>venuePage.id</th>\n",
       "      <th>location.crossStreet</th>\n",
       "    </tr>\n",
       "  </thead>\n",
       "  <tbody>\n",
       "    <tr>\n",
       "      <th>0</th>\n",
       "      <td>50dd6f67e4b0add0e71f37bd</td>\n",
       "      <td>Hospital Nnecker</td>\n",
       "      <td>[{'id': '4bf58dd8d48988d196941735', 'name': 'H...</td>\n",
       "      <td>v-1589778398</td>\n",
       "      <td>False</td>\n",
       "      <td>48.870183</td>\n",
       "      <td>2.351002</td>\n",
       "      <td>[{'label': 'display', 'lat': 48.87018291494488...</td>\n",
       "      <td>1501</td>\n",
       "      <td>FR</td>\n",
       "      <td>France</td>\n",
       "      <td>[France]</td>\n",
       "      <td>NaN</td>\n",
       "      <td>NaN</td>\n",
       "      <td>NaN</td>\n",
       "      <td>NaN</td>\n",
       "      <td>NaN</td>\n",
       "      <td>NaN</td>\n",
       "    </tr>\n",
       "    <tr>\n",
       "      <th>1</th>\n",
       "      <td>50f8db68e4b070089ca027d2</td>\n",
       "      <td>American Hospital of Paris</td>\n",
       "      <td>[{'id': '4bf58dd8d48988d196941735', 'name': 'H...</td>\n",
       "      <td>v-1589778398</td>\n",
       "      <td>False</td>\n",
       "      <td>48.870697</td>\n",
       "      <td>2.331678</td>\n",
       "      <td>[{'label': 'display', 'lat': 48.87069730004591...</td>\n",
       "      <td>2127</td>\n",
       "      <td>FR</td>\n",
       "      <td>France</td>\n",
       "      <td>[44, rue d'Amsterdam, 75008 Paris, France]</td>\n",
       "      <td>44, rue d'Amsterdam</td>\n",
       "      <td>75008</td>\n",
       "      <td>Paris</td>\n",
       "      <td>Île-de-France</td>\n",
       "      <td>NaN</td>\n",
       "      <td>NaN</td>\n",
       "    </tr>\n",
       "    <tr>\n",
       "      <th>2</th>\n",
       "      <td>4b695e65f964a52028a02be3</td>\n",
       "      <td>Hôpital de la Pitié-Salpêtrière</td>\n",
       "      <td>[{'id': '4bf58dd8d48988d196941735', 'name': 'H...</td>\n",
       "      <td>v-1589778398</td>\n",
       "      <td>False</td>\n",
       "      <td>48.837549</td>\n",
       "      <td>2.364292</td>\n",
       "      <td>[{'label': 'display', 'lat': 48.83754878953055...</td>\n",
       "      <td>2329</td>\n",
       "      <td>FR</td>\n",
       "      <td>France</td>\n",
       "      <td>[47 boulevard de l'Hôpital, 75013 Paris, France]</td>\n",
       "      <td>47 boulevard de l'Hôpital</td>\n",
       "      <td>75013</td>\n",
       "      <td>Paris</td>\n",
       "      <td>Île-de-France</td>\n",
       "      <td>NaN</td>\n",
       "      <td>NaN</td>\n",
       "    </tr>\n",
       "    <tr>\n",
       "      <th>3</th>\n",
       "      <td>4f507bd3e4b07c3381f1575a</td>\n",
       "      <td>American Hospital Paris</td>\n",
       "      <td>[{'id': '4bf58dd8d48988d1b3941735', 'name': 'M...</td>\n",
       "      <td>v-1589778398</td>\n",
       "      <td>False</td>\n",
       "      <td>48.872050</td>\n",
       "      <td>2.309073</td>\n",
       "      <td>[{'label': 'display', 'lat': 48.87205004493644...</td>\n",
       "      <td>3543</td>\n",
       "      <td>FR</td>\n",
       "      <td>France</td>\n",
       "      <td>[France, France]</td>\n",
       "      <td>France</td>\n",
       "      <td>NaN</td>\n",
       "      <td>NaN</td>\n",
       "      <td>NaN</td>\n",
       "      <td>NaN</td>\n",
       "      <td>NaN</td>\n",
       "    </tr>\n",
       "    <tr>\n",
       "      <th>4</th>\n",
       "      <td>4c653d9f5e61d13a394fbb85</td>\n",
       "      <td>Rue des Hospitalières-Saint-Gervais</td>\n",
       "      <td>[{'id': '4bf58dd8d48988d1f9931735', 'name': 'R...</td>\n",
       "      <td>v-1589778398</td>\n",
       "      <td>False</td>\n",
       "      <td>48.858009</td>\n",
       "      <td>2.358917</td>\n",
       "      <td>[{'label': 'display', 'lat': 48.85800935616668...</td>\n",
       "      <td>565</td>\n",
       "      <td>FR</td>\n",
       "      <td>France</td>\n",
       "      <td>[Rue des Hospitalières-Saint-Gervais, 75004 Pa...</td>\n",
       "      <td>Rue des Hospitalières-Saint-Gervais</td>\n",
       "      <td>75004</td>\n",
       "      <td>Paris</td>\n",
       "      <td>Île-de-France</td>\n",
       "      <td>NaN</td>\n",
       "      <td>NaN</td>\n",
       "    </tr>\n",
       "  </tbody>\n",
       "</table>\n",
       "</div>"
      ],
      "text/plain": [
       "                         id                                 name  \\\n",
       "0  50dd6f67e4b0add0e71f37bd                     Hospital Nnecker   \n",
       "1  50f8db68e4b070089ca027d2           American Hospital of Paris   \n",
       "2  4b695e65f964a52028a02be3      Hôpital de la Pitié-Salpêtrière   \n",
       "3  4f507bd3e4b07c3381f1575a              American Hospital Paris   \n",
       "4  4c653d9f5e61d13a394fbb85  Rue des Hospitalières-Saint-Gervais   \n",
       "\n",
       "                                          categories    referralId  hasPerk  \\\n",
       "0  [{'id': '4bf58dd8d48988d196941735', 'name': 'H...  v-1589778398    False   \n",
       "1  [{'id': '4bf58dd8d48988d196941735', 'name': 'H...  v-1589778398    False   \n",
       "2  [{'id': '4bf58dd8d48988d196941735', 'name': 'H...  v-1589778398    False   \n",
       "3  [{'id': '4bf58dd8d48988d1b3941735', 'name': 'M...  v-1589778398    False   \n",
       "4  [{'id': '4bf58dd8d48988d1f9931735', 'name': 'R...  v-1589778398    False   \n",
       "\n",
       "   location.lat  location.lng  \\\n",
       "0     48.870183      2.351002   \n",
       "1     48.870697      2.331678   \n",
       "2     48.837549      2.364292   \n",
       "3     48.872050      2.309073   \n",
       "4     48.858009      2.358917   \n",
       "\n",
       "                             location.labeledLatLngs  location.distance  \\\n",
       "0  [{'label': 'display', 'lat': 48.87018291494488...               1501   \n",
       "1  [{'label': 'display', 'lat': 48.87069730004591...               2127   \n",
       "2  [{'label': 'display', 'lat': 48.83754878953055...               2329   \n",
       "3  [{'label': 'display', 'lat': 48.87205004493644...               3543   \n",
       "4  [{'label': 'display', 'lat': 48.85800935616668...                565   \n",
       "\n",
       "  location.cc location.country  \\\n",
       "0          FR           France   \n",
       "1          FR           France   \n",
       "2          FR           France   \n",
       "3          FR           France   \n",
       "4          FR           France   \n",
       "\n",
       "                           location.formattedAddress  \\\n",
       "0                                           [France]   \n",
       "1         [44, rue d'Amsterdam, 75008 Paris, France]   \n",
       "2   [47 boulevard de l'Hôpital, 75013 Paris, France]   \n",
       "3                                   [France, France]   \n",
       "4  [Rue des Hospitalières-Saint-Gervais, 75004 Pa...   \n",
       "\n",
       "                      location.address location.postalCode location.city  \\\n",
       "0                                  NaN                 NaN           NaN   \n",
       "1                  44, rue d'Amsterdam               75008         Paris   \n",
       "2            47 boulevard de l'Hôpital               75013         Paris   \n",
       "3                               France                 NaN           NaN   \n",
       "4  Rue des Hospitalières-Saint-Gervais               75004         Paris   \n",
       "\n",
       "  location.state venuePage.id location.crossStreet  \n",
       "0            NaN          NaN                  NaN  \n",
       "1  Île-de-France          NaN                  NaN  \n",
       "2  Île-de-France          NaN                  NaN  \n",
       "3            NaN          NaN                  NaN  \n",
       "4  Île-de-France          NaN                  NaN  "
      ]
     },
     "execution_count": 11,
     "metadata": {},
     "output_type": "execute_result"
    }
   ],
   "source": [
    "# assign relevant part of JSON to hospitals\n",
    "hospitals = results['response']['venues']\n",
    "\n",
    "# tranform hospitals into a dataframe\n",
    "df_pr = json_normalize(hospitals)\n",
    "df_pr.head()"
   ]
  },
  {
   "cell_type": "code",
   "execution_count": null,
   "metadata": {},
   "outputs": [],
   "source": []
  }
 ],
 "metadata": {
  "kernelspec": {
   "display_name": "Python 3",
   "language": "python",
   "name": "python3"
  },
  "language_info": {
   "codemirror_mode": {
    "name": "ipython",
    "version": 3
   },
   "file_extension": ".py",
   "mimetype": "text/x-python",
   "name": "python",
   "nbconvert_exporter": "python",
   "pygments_lexer": "ipython3",
   "version": "3.6.5"
  }
 },
 "nbformat": 4,
 "nbformat_minor": 2
}
